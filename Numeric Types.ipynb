{
 "cells": [
  {
   "metadata": {},
   "cell_type": "code",
   "outputs": [],
   "execution_count": null,
   "source": "",
   "id": "91585de9a7c0d16e"
  },
  {
   "metadata": {
    "collapsed": true
   },
   "cell_type": "markdown",
   "source": [
    "Numeric Types: \\\n",
    "Concepts to know: \\\n",
    "random: Module for generating random numbers and selecting random element \\\n",
    "Comparison: Operators for comparing values \\\n",
    "f-strings: Strings inot which expressions can be interpolated \\\n",
    "for loops: Iterates over the elements of an interable \\\n",
    "input: Prompts the user to enter a string, and returns a string \\\n",
    "enumerate: Helps us to number elements of iterables \\\n",
    "reversed: Returns an iterator with the reversed elements of an iterable. \\\n"
   ],
   "id": "59940c28517357d0"
  },
  {
   "metadata": {},
   "cell_type": "markdown",
   "source": [
    "Exercise 1: Number guessing game \\\n",
    "This first exercise is designed to get your fingers warmed up for the rest of the book.  It also introduces a number of topics that will repeat themselves.\\\n",
    "\n",
    "This project is a set up where you allow python to create a random number using the randint function you then prompt the user to enter numbers and the computer will tell them if it is higher, lower, or equal to the randomized number.  If the user guesses to high then they will be prompted to guess lower,  If the number is too low then they will be prompted to guess higher. If they guess the number then they will be told that they guessed correctly and the program will end.  This is partially be done in a python function.\n"
   ],
   "id": "4c3df67851687f47"
  },
  {
   "metadata": {},
   "cell_type": "code",
   "source": [
    "# importing proper libraries\n",
    "import random\n",
    "# Creating the random number\n",
    "def guessing_game():\n",
    "    number = random.randint(10,30)\n",
    "# asking the user to enter their name\n",
    "    name = input('Enter your name: ')\n",
    "# Saying Hello\n",
    "    print(f'Hello, {name}!')\n",
    "# asking them to enter a number\n",
    "\n",
    "    while True:\n",
    "        guess = int(input('Enter a number between 10 and 30: '))\n",
    "        if guess == number:\n",
    "            print(\"You've guessed correctly\")\n",
    "            break\n",
    "        if guess > number:\n",
    "            print(\"You've guessed too high\")\n",
    "        if guess < number:\n",
    "            print(\"You've guessed too low\")\n",
    "\n",
    "guessing_game()\n"
   ],
   "id": "64c6790adb834cd7",
   "outputs": [],
   "execution_count": null
  },
  {
   "metadata": {},
   "cell_type": "markdown",
   "source": [
    "The next step is to modify this program in the following way\\\n",
    "It gives the user only 3 chances to guess"
   ],
   "id": "d3b80d396c9e224"
  },
  {
   "metadata": {},
   "cell_type": "code",
   "source": [
    "#inputting proper libraries\n",
    "import random\n",
    "def guessing_game():\n",
    "    number = random.randint(0,100)\n",
    "    name = input('Enter your name: ')\n",
    "    print(f'Hello, {name}!')\n",
    "\n",
    "    counter = 0\n",
    "    while counter < 3:\n",
    "        guess = int(input('Enter a number between 0 and 100: '))\n",
    "        if guess == number:\n",
    "            print(\"You've guessed correctly\")\n",
    "            break\n",
    "        if guess > number:\n",
    "            print(\"You've guessed too high\")\n",
    "            counter = counter + 1\n",
    "            print(f' You have guessed {counter} times')\n",
    "        if guess < number:\n",
    "            print(\"You've guessed too low\")\n",
    "            counter = counter + 1\n",
    "            print(f' You have guessed {counter} times')\n",
    "\n",
    "    print(\"you have guessed too many times.  Please try again\")\n",
    "\n",
    "guessing_game()\n"
   ],
   "id": "11f6bf2dbb340ea0",
   "outputs": [],
   "execution_count": null
  },
  {
   "metadata": {},
   "cell_type": "markdown",
   "source": [
    "Exercise 2: Summing Machine \\\n",
    "Create a python function that has the same functionality as the sum() function."
   ],
   "id": "a444925eab17523e"
  },
  {
   "metadata": {},
   "cell_type": "code",
   "source": [
    "# Code for the mysum() function\n",
    "\n",
    "def mysum(* numbers):\n",
    "    output = 0\n",
    "    for n in numbers:\n",
    "        output += n\n",
    "    return output\n",
    "\n",
    "print(mysum(1,2,3,4,5,6,7,8,9,10))\n"
   ],
   "id": "47164102afb93774",
   "outputs": [],
   "execution_count": null
  },
  {
   "metadata": {},
   "cell_type": "markdown",
   "source": [
    "Taking this exercise we can do other things.  \\\n",
    "Write a function that takes a list of numbers and gives the artithmetic mean \\\n",
    "Write a list of strings and it will give you 3 numbers the length of the shortest and longest word and then the average length of the words on the list\\\n"
   ],
   "id": "a67dc3b7f495a8ed"
  },
  {
   "metadata": {},
   "cell_type": "code",
   "source": [
    "#Exercise 2.1: myavg() function\n",
    "\n",
    "def myavg(*num):\n",
    "    sum = 0\n",
    "    for n in num:\n",
    "        sum += n\n",
    "    avg = sum/len(num)\n",
    "    return avg\n",
    "print(myavg(1,2,3,4,5,6,7,8,9,10))\n"
   ],
   "id": "4f6adb71f5e43f9f",
   "outputs": [],
   "execution_count": null
  },
  {
   "metadata": {},
   "cell_type": "code",
   "source": [
    "#Exercise 2.2: Word Counter Function\n",
    "def wordcount(*string):\n",
    "    #Creating an empty tuple to store the word lengths in\n",
    "    word_counts = []\n",
    "    # For each word in the string tuple append the length into the word counts tuple\n",
    "    for w in string:\n",
    "        word_counts.append(len(w))\n",
    "    #Create another tuple that will hold the min max and avg lengths\n",
    "    tuple_stats = [max(word_counts), min(word_counts), sum(word_counts)/len(word_counts)]\n",
    "    return tuple_stats\n",
    "\n",
    "\n",
    "print(wordcount(\"Hope\",\"Sanity\",\"Oh\"))"
   ],
   "id": "a653d3b48a72cb7",
   "outputs": [],
   "execution_count": null
  },
  {
   "metadata": {},
   "cell_type": "markdown",
   "source": [
    "Exercise 3: Run Timing \\\n",
    "Instructions: Write a function called run_timeing that asks how long it took for you to run 10km.  The function continues to ask how long (in minutes) it took for additional runs, until the user presses Enter.  At that point, the function exits but only after calculating and displaying the aveage time that the 10km runs took. \\\n",
    "Note that the numeric inputs and outputs should all be floating point values."
   ],
   "id": "cc8c7cb674357204"
  },
  {
   "metadata": {},
   "cell_type": "code",
   "source": [
    "#Exercise Run Timing\n",
    "def run_timing():\n",
    "    #creating an empty tuple\n",
    "    run_list = []\n",
    "    #asking user to enter numbers\n",
    "    while True:\n",
    "        run=input('Enter your 10km run time: ')\n",
    "        if not run:\n",
    "            break\n",
    "        print(f'Enter 10km run time: {run}')\n",
    "        run_list.append(float(run))\n",
    "\n",
    "\n",
    "    print(f'Your average run time is: {sum(run_list)/len(run_list)}')\n",
    "\n",
    "run_timing()\n"
   ],
   "id": "4154d2eb3c60a973",
   "outputs": [],
   "execution_count": null
  },
  {
   "metadata": {},
   "cell_type": "markdown",
   "source": [
    "Exercise 4: Hexadecimal Output \\\n",
    "For this exercise, you need to write a function called hex_output() that asks the user for a hex number, and prints the decimal equivalent.  \\\n",
    "For example if a user enters 50 you'll assume its in hexadecimal notation and the function will send out 80 in response. \\\n",
    "Note: Do not use the int function to change the number all at once. \\\n"
   ],
   "id": "5253c65964a542a0"
  },
  {
   "metadata": {},
   "cell_type": "code",
   "source": [
    "#Creating the hex_output function\n",
    "def hex_output():\n",
    "    string=input(\"Enter a hex number: \")\n",
    "    dec_output = 0\n",
    "    for index, char in enumerate(reversed(string)):\n",
    "        dec_output += int(char, 16) * (16**index)\n",
    "    print(dec_output)\n",
    "\n",
    "hex_output()"
   ],
   "id": "833f19f9e47d847b",
   "outputs": [],
   "execution_count": null
  },
  {
   "metadata": {},
   "cell_type": "markdown",
   "source": [
    "For another code you can ask the uer for their name and make an 'name triangle.  Spelling out the name like so:\n",
    "'Elizabeth' would look like \\\n",
    "E \\\n",
    " El\\\n",
    " Eli\\\n",
    " Eliz\\\n",
    " Eliza\\\n",
    " Elizab\\\n",
    " Elizabe\\\n",
    " Elizabet\\\n",
    " Elizabeth\n"
   ],
   "id": "b270c4a6d8e2d082"
  },
  {
   "metadata": {},
   "cell_type": "code",
   "source": [
    "def name_triangle():\n",
    "    name = input('Enter your name: ')\n",
    "    for index, char in enumerate(reversed(name)):\n",
    "        print(name[:index+1])\n",
    "\n",
    "name_triangle()"
   ],
   "id": "a3244d46c07f2f8c",
   "outputs": [],
   "execution_count": null
  }
 ],
 "metadata": {
  "kernelspec": {
   "display_name": "Python 3",
   "language": "python",
   "name": "python3"
  },
  "language_info": {
   "codemirror_mode": {
    "name": "ipython",
    "version": 2
   },
   "file_extension": ".py",
   "mimetype": "text/x-python",
   "name": "python",
   "nbconvert_exporter": "python",
   "pygments_lexer": "ipython2",
   "version": "2.7.6"
  }
 },
 "nbformat": 4,
 "nbformat_minor": 5
}
