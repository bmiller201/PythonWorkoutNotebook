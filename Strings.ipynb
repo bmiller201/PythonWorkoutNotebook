{
 "cells": [
  {
   "metadata": {},
   "cell_type": "markdown",
   "source": [
    "Strings: /\n",
    "Strings in Python are the way we work with text.  Words, sentences, paragraphs, and even entire files are read into a manipulated via strings.  /\n",
    "Important Things about Python Strings: /\n",
    "1.) they're immutable /\n",
    "2.) in Python 3 they contain Unicode characters encoded in UTF-8 /\n",
    "\n",
    "There is no such thing as a 'character-type' in python.  /\n",
    "\n",
    "Useful references: /\n",
    "in : operator for searching in a sequence: for example 'a' in 'abcd' /\n",
    "Slice: Retrieves a subset of elements from a  sequence: 'abcedefg'[1:7:2] will return 'bdf' /\n",
    "str.split: breaks strings apart, returning a list /\n",
    "str.join: Combines strings to create a new one /\n",
    "list.append: Adds an element to a list /\n",
    "sorted: Returns a sorted list, based on an input sequence /\n",
    "Iterating over files: Opens a file and iterates over its lines one at a time. for one_line in open(filename): /\n",
    "\n",
    "\n"
   ],
   "id": "c9f56791f79d8201"
  },
  {
   "metadata": {},
   "cell_type": "markdown",
   "source": [
    "Exercise 5: Pig Latin \\\n",
    "Rules: If the word begins with a vowel (a,e,i,o,u) and \"way\" to the end of the word, If the word begins with any other letter then we take the first letter and put it on the end of the word, and then add \"ay\" at the end.\n",
    "\n",
    "For the exercise: create a function called pig_latin that takes a string as an input.  The function should return the translation of this word into pig latin."
   ],
   "id": "ce0241585f6aba5e"
  },
  {
   "metadata": {
    "ExecuteTime": {
     "end_time": "2025-09-23T12:19:36.034427Z",
     "start_time": "2025-09-23T12:19:32.519251Z"
    }
   },
   "cell_type": "code",
   "source": [
    "def pig_latin():\n",
    "    word = input(\"Please Enter a Word: \")\n",
    "\n",
    "    if word[0] in 'aeiou':\n",
    "        print(f'{word}way')\n",
    "    else:\n",
    "        print(f'{word[1:]}{word[0]}ay')\n",
    "\n",
    "pig_latin()"
   ],
   "id": "6a02673fefb46b6f",
   "outputs": [
    {
     "name": "stdout",
     "output_type": "stream",
     "text": [
      "rainbay\n"
     ]
    }
   ],
   "execution_count": 13
  },
  {
   "metadata": {},
   "cell_type": "markdown",
   "source": "To add to this code block I made it so it handles uppercase letters better.",
   "id": "c9bc2ad00e01aaa1"
  },
  {
   "metadata": {
    "ExecuteTime": {
     "end_time": "2025-09-23T12:21:54.429850Z",
     "start_time": "2025-09-23T12:21:50.297530Z"
    }
   },
   "cell_type": "code",
   "source": [
    "def pig_latin():\n",
    "    word = input(\"Please Enter a Word: \")\n",
    "\n",
    "    if word[0] in 'aeiou':\n",
    "        print(f'{word}way')\n",
    "    else:\n",
    "        print(f'{word[1].upper()}{word[2:]}{word[0].lower()}ay')\n",
    "\n",
    "pig_latin()"
   ],
   "id": "f615902679fdbbb2",
   "outputs": [
    {
     "name": "stdout",
     "output_type": "stream",
     "text": [
      "Rainbay\n"
     ]
    }
   ],
   "execution_count": 14
  },
  {
   "metadata": {},
   "cell_type": "markdown",
   "source": [
    "Exercise 6: Pig Latin Sentence \\\n",
    "This exercise is an extension on the last one where we now look at a complete sentence and translate each word individually then print it back out as a complete sentence."
   ],
   "id": "638b39323bc47b74"
  },
  {
   "metadata": {
    "ExecuteTime": {
     "end_time": "2025-09-23T14:25:58.977751Z",
     "start_time": "2025-09-23T14:25:52.841946Z"
    }
   },
   "cell_type": "code",
   "source": [
    "def pig_latin():\n",
    "    sen = input(\"Please Type a Sentence: \")\n",
    "    output = []\n",
    "    for word in sen.split():\n",
    "        if word[0] in 'aeiou':\n",
    "            output.append(f'{word}way')\n",
    "        else:\n",
    "            output.append(f'{word[1:]}{word[0]}ay')\n",
    "    return print(' '.join(output))\n",
    "\n",
    "pig_latin()"
   ],
   "id": "83cb8afc2e6195a5",
   "outputs": [
    {
     "name": "stdout",
     "output_type": "stream",
     "text": [
      "yMay amenay isway enbay\n"
     ]
    }
   ],
   "execution_count": 19
  },
  {
   "metadata": {},
   "cell_type": "markdown",
   "source": [
    "Exercise 8: Sorting a string\n",
    "Create a function strsort that takes a single string as its input and returns a string.  The returned string should contain the same chracters as the input, except that its characters should be sorted in order, from the lowest Unicode value to the highest Unicode value.  For example 'cba' will be the string 'abc'"
   ],
   "id": "74895386c309a160"
  },
  {
   "metadata": {
    "ExecuteTime": {
     "end_time": "2025-09-23T14:33:32.656613Z",
     "start_time": "2025-09-23T14:33:25.471251Z"
    }
   },
   "cell_type": "code",
   "source": [
    "# Creating the strsort\n",
    "def strsort():\n",
    "    string = sorted(input(\"Enter a string of letters: \"))\n",
    "    print(''.join(string))\n",
    "\n",
    "strsort()"
   ],
   "id": "cf21053080f7ef60",
   "outputs": [
    {
     "name": "stdout",
     "output_type": "stream",
     "text": [
      "abdddfiklnnoss\n"
     ]
    }
   ],
   "execution_count": 21
  }
 ],
 "metadata": {
  "kernelspec": {
   "display_name": "Python 3",
   "language": "python",
   "name": "python3"
  },
  "language_info": {
   "codemirror_mode": {
    "name": "ipython",
    "version": 2
   },
   "file_extension": ".py",
   "mimetype": "text/x-python",
   "name": "python",
   "nbconvert_exporter": "python",
   "pygments_lexer": "ipython2",
   "version": "2.7.6"
  }
 },
 "nbformat": 4,
 "nbformat_minor": 5
}
