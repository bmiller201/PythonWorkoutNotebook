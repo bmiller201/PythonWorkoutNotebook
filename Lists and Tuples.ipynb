{
 "cells": [
  {
   "metadata": {},
   "cell_type": "markdown",
   "source": [
    "Lists and tuples are both Python sequences, whcih means that we can run for loops on them, search using the in operator, and retrieve from them, both usign individual indexes and with slices. \\\n",
    "\n",
    "In this notebook it is to practice lists and tuples."
   ],
   "id": "62fe2353879bb7fc"
  },
  {
   "metadata": {},
   "cell_type": "markdown",
   "source": [
    "Exercise 9: First-Last\n",
    "Write a function called firstlast() that takes a sequences and returns the first and last elements of that sequence in a two element sequences of the same type.  So 'abc' will return the string 'ac' and [1,2,3,4] will return the list [1,4]"
   ],
   "id": "eb2353be3dadf8c5"
  },
  {
   "metadata": {
    "ExecuteTime": {
     "end_time": "2025-09-23T14:49:03.227169Z",
     "start_time": "2025-09-23T14:49:03.220459Z"
    }
   },
   "cell_type": "code",
   "source": [
    "def firstlast(s):\n",
    "    return s[:1] +s[-1:]\n",
    "\n",
    "print(firstlast(\"a,b,c,d,e,f,g\"))\n",
    "print(firstlast(['a','b','c','d','e','f','g']))"
   ],
   "id": "e76fed6a0199bc53",
   "outputs": [
    {
     "name": "stdout",
     "output_type": "stream",
     "text": [
      "ag\n",
      "['a', 'g']\n"
     ]
    }
   ],
   "execution_count": 5
  },
  {
   "metadata": {},
   "cell_type": "markdown",
   "source": "Write a function that squares integers and squares floats.",
   "id": "9e1007a50b9020ab"
  },
  {
   "metadata": {
    "ExecuteTime": {
     "end_time": "2025-09-23T14:51:34.264420Z",
     "start_time": "2025-09-23T14:51:34.257401Z"
    }
   },
   "cell_type": "code",
   "source": [
    "def squares(num):\n",
    "    return num*num\n",
    "print(squares(5))\n",
    "print(squares(5.5))"
   ],
   "id": "230d534f21e909d3",
   "outputs": [
    {
     "name": "stdout",
     "output_type": "stream",
     "text": [
      "25\n",
      "30.25\n"
     ]
    }
   ],
   "execution_count": 7
  },
  {
   "metadata": {},
   "cell_type": "markdown",
   "source": "Write one function that finds the largets element of a string, list and tuple.",
   "id": "14918f0f6ef148c6"
  },
  {
   "metadata": {
    "ExecuteTime": {
     "end_time": "2025-09-23T14:54:09.580653Z",
     "start_time": "2025-09-23T14:54:09.568130Z"
    }
   },
   "cell_type": "code",
   "source": [
    "def largestelement(sequence):\n",
    "    return sequence[-1:]\n",
    "\n",
    "print(largestelement(['a','b','c','d','e','f','g']))\n",
    "print(largestelement('abcdefg'))"
   ],
   "id": "c7346663df9f47dd",
   "outputs": [
    {
     "name": "stdout",
     "output_type": "stream",
     "text": [
      "['g']\n",
      "g\n"
     ]
    }
   ],
   "execution_count": 8
  },
  {
   "metadata": {},
   "cell_type": "markdown",
   "source": [
    "Exercise 10: Summing Anything \\\n",
    "Create a function called mysum() that allows a user to add any number of arguments.  Number or String and it will either return an appened list or it will return the sum of the numbers \\\n",
    "For example mysum('abc','efg') will return 'abcefg'. While mysum(1,2,3,4,5,6) will return 21.\n"
   ],
   "id": "c357bb4c864a29a1"
  },
  {
   "metadata": {
    "ExecuteTime": {
     "end_time": "2025-09-24T12:49:22.293653Z",
     "start_time": "2025-09-24T12:49:22.275994Z"
    }
   },
   "cell_type": "code",
   "source": [
    "def mysum(*number):\n",
    "    #checking for an empty tuple\n",
    "    if not number:\n",
    "        return number\n",
    "    output = number[0]\n",
    "    for i in number[1:]:\n",
    "        output += i\n",
    "    return output\n",
    "\n",
    "print(mysum(10,20,30,40))\n",
    "print(mysum('abc','defg'))\n",
    "print(mysum([1,2,3,4,5]))\n"
   ],
   "id": "6411923f4d15cfdf",
   "outputs": [
    {
     "name": "stdout",
     "output_type": "stream",
     "text": [
      "100\n",
      "abcdefg\n",
      "[1, 2, 3, 4, 5]\n"
     ]
    }
   ],
   "execution_count": 11
  },
  {
   "metadata": {},
   "cell_type": "markdown",
   "source": "To example upon this exercise write a function called mysum_bigger_than.  That works the same as mysum, except that it takes a first argument that precedes *args.  That argument indicates the threshold for including an argument in the sum.  For example calling (mysum_bigger_than(10,5,20,30,6) will only return 50 because 5 and 6 are not greater than 10.\n",
   "id": "68bd9bb733015942"
  },
  {
   "metadata": {
    "ExecuteTime": {
     "end_time": "2025-09-24T14:26:24.589894Z",
     "start_time": "2025-09-24T14:26:24.581345Z"
    }
   },
   "cell_type": "code",
   "source": [
    "def mysum_bigger_than(ref,*num):\n",
    "    output = 0\n",
    "    if not num:\n",
    "        return ref\n",
    "    for i in num[0:]:\n",
    "        if i > ref:\n",
    "            output = i + output\n",
    "    return output\n",
    "mysum_bigger_than(10,5,20,30,6)"
   ],
   "id": "cba7a8a542b17cbb",
   "outputs": [
    {
     "data": {
      "text/plain": [
       "50"
      ]
     },
     "execution_count": 19,
     "metadata": {},
     "output_type": "execute_result"
    }
   ],
   "execution_count": 19
  },
  {
   "metadata": {},
   "cell_type": "markdown",
   "source": [
    "Exercise 11: Alphabetizing Countries /\n",
    "The goal is to create a function called alphabetize_countries which sorts a dictionary by country name.  The function should return the dictionary but sorted."
   ],
   "id": "d215b02dee835f16"
  },
  {
   "metadata": {
    "ExecuteTime": {
     "end_time": "2025-09-24T14:42:06.414074Z",
     "start_time": "2025-09-24T14:42:06.383400Z"
    }
   },
   "cell_type": "code",
   "source": [
    "from operator import itemgetter\n",
    "# Create a dictionary\n",
    "COUNTRIES = [\n",
    "    {'name': 'Canada', 'size': 9984670,'population': 37240000},{'name':'Italy','size':301340,'population':59110000},{'name':'United Kingdom','size':301340,'population':672200000},{'name':'France','size':441695,'population':67390000},{'name':'Germany','size':357022,'population':8320000000},{'name':'Japan','size':377975,'population':12570000},{'name':'United States','size':9833417,'population':331900000}]\n",
    "# Create the function\n",
    "def alphabetize_countries(dict):\n",
    "    #sort the list here\n",
    "    sorted_list = sorted(dict, key=itemgetter('name'))\n",
    "    #print out the list on new lines\n",
    "    for country in sorted_list:\n",
    "        print(f'{country[\"name\"]},{country[\"size\"]},{country[\"population\"]}')\n",
    "\n",
    "\n",
    "alphabetize_countries(COUNTRIES)"
   ],
   "id": "d2193b212e4faad7",
   "outputs": [
    {
     "name": "stdout",
     "output_type": "stream",
     "text": [
      "Canada,9984670,37240000\n",
      "France,441695,67390000\n",
      "Germany,357022,8320000000\n",
      "Italy,301340,59110000\n",
      "Japan,377975,12570000\n",
      "United Kingdom,301340,672200000\n",
      "United States,9833417,331900000\n"
     ]
    }
   ],
   "execution_count": 23
  },
  {
   "metadata": {},
   "cell_type": "markdown",
   "source": "Extending this exercise we are going to be given a sequence of numbers and they will be sorted by their absolute value.  We will call this abs_value_sort()\n",
   "id": "918d411b49770162"
  },
  {
   "metadata": {
    "ExecuteTime": {
     "end_time": "2025-09-24T14:46:06.537770Z",
     "start_time": "2025-09-24T14:46:06.498384Z"
    }
   },
   "cell_type": "code",
   "source": [
    "def abs_value_sort(*sequence):\n",
    "    return sorted(sequence, key=abs)\n",
    "\n",
    "print(abs_value_sort(-1,2,6,-20,30,40,-22,394))\n"
   ],
   "id": "e7855f032fdd24ad",
   "outputs": [
    {
     "name": "stdout",
     "output_type": "stream",
     "text": [
      "[-1, 2, 6, -20, -22, 30, 40, 394]\n"
     ]
    }
   ],
   "execution_count": 24
  },
  {
   "metadata": {},
   "cell_type": "markdown",
   "source": "Another extension is taking a list of strings and sorting them by how many vowels they contain.",
   "id": "ceb564fd3c709ea3"
  },
  {
   "metadata": {
    "ExecuteTime": {
     "end_time": "2025-09-24T14:58:50.351044Z",
     "start_time": "2025-09-24T14:58:50.338660Z"
    }
   },
   "cell_type": "code",
   "source": [
    "def vowel_count(list):\n",
    "    count_list = []\n",
    "    for i in list:\n",
    "        vowel_num = 0\n",
    "        for letter in i:\n",
    "            if letter in 'aeiou':\n",
    "                vowel_num = vowel_num+1\n",
    "        count_list.append(vowel_num)\n",
    "    combined = tuple(zip(list,count_list))\n",
    "\n",
    "\n",
    "    return sorted(combined, key=itemgetter(1))\n",
    "\n",
    "print(vowel_count(['ouch','break','inside','outside','millipede','bipedal','quadraped']))\n"
   ],
   "id": "b0de02f61a45028b",
   "outputs": [
    {
     "name": "stdout",
     "output_type": "stream",
     "text": [
      "[('ouch', 2), ('break', 2), ('inside', 3), ('bipedal', 3), ('outside', 4), ('millipede', 4), ('quadraped', 4)]\n"
     ]
    }
   ],
   "execution_count": 32
  }
 ],
 "metadata": {
  "kernelspec": {
   "display_name": "Python 3",
   "language": "python",
   "name": "python3"
  },
  "language_info": {
   "codemirror_mode": {
    "name": "ipython",
    "version": 2
   },
   "file_extension": ".py",
   "mimetype": "text/x-python",
   "name": "python",
   "nbconvert_exporter": "python",
   "pygments_lexer": "ipython2",
   "version": "2.7.6"
  }
 },
 "nbformat": 4,
 "nbformat_minor": 5
}
