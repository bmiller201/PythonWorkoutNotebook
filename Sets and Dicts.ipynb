{
 "cells": [
  {
   "metadata": {},
   "cell_type": "markdown",
   "source": [
    "Dictonaires, or dicts, are one of Python's mostpowerful and important data structures.  You may recognize them as hashes, associateive arrays, hash maps or hash tables. \\\\\n",
    "In a dict, we don't enter individual elements, as ina   list or tuple.  Rather we, enter pairs of data, with the first item known as the key and the second item known as the value."
   ],
   "id": "9fc0b02bd9fb5e30"
  },
  {
   "metadata": {},
   "cell_type": "markdown",
   "source": [
    "## Hashing and Dicing \\\\\n",
    "While absolutely anything can be stored in a python value, only hashable types, meaning those on which we can run the hash function can be used as keys.  This same has function ensures that a dicts keys are unique, and that seraching for a key can be quite fast.\n",
    "\n",
    "## Sets \\\\\n",
    "Closely releated to dicts but can be thought of as dicts without values.  Sets are extremely useful when you need to look something up in a large collection, such as filenames, email addresses, or postal cocdes, because searching is 0(1), just as in a dict."
   ],
   "id": "2ed553c02edbb91"
  },
  {
   "metadata": {},
   "cell_type": "markdown",
   "source": [
    "## Useful concepts and functions\n",
    "\n",
    "input: Prompts a user to enter a string, and returns a string \\\n",
    "\n",
    "dict: is used for storing key-value pairs \\\n",
    "\n",
    "dict.get: retrieves a key from a dictorny \\\n",
    "\n",
    "dict.items: Returns an iterator that returns a key-value pair (as a tuple) with each iteration \\\n",
    "\n",
    "set: For storing unique, hasable items. set can also be used to create a new set \\\n",
    "\n",
    "set.add: Adds one new item to a set \\\n",
    "\n",
    "set.update: Adds the element sof one or more iterables to a set.\n",
    "\n",
    "str.isdigit: returns true if all elements in a string is a digit.\n",
    "\n"
   ],
   "id": "75418499686b8b53"
  },
  {
   "metadata": {},
   "cell_type": "markdown",
   "source": [
    "## Exercise 14: Restaurant\n",
    "\n",
    "Create a new constant dict called Menu, represetning possible items you can order at a restaurant.  The keys will be strings and the values will be prices.\n",
    "\n",
    "Then, write a function restaurant that asks the user to enter an order.  If the user enters a name of a dish the program prints the price and running total.  The asks the user to continue.  If the user enters the name of a dish not on the menu, the program scolds the user then asks again.  If the user enters an empty string the program stop prompting and prints the total amount.\n",
    "\n"
   ],
   "id": "4c8b18fe27531661"
  },
  {
   "metadata": {
    "ExecuteTime": {
     "end_time": "2025-09-26T12:48:35.609334Z",
     "start_time": "2025-09-26T12:48:01.319584Z"
    }
   },
   "cell_type": "code",
   "source": [
    "## Creating a MENU Dict:\n",
    "MENU = {\"Pie\":12.50,\"Chicken\":5.20, \"Burger\":2.50, \"Pizza\":16.50}\n",
    "\n",
    "def restaurant(menu):\n",
    "    total = 0\n",
    "    while True:\n",
    "        order = input(\"What can we get for you today?: \").strip()\n",
    "        if not order:\n",
    "            print(f'Total is {total}')\n",
    "            break\n",
    "        if order in menu:\n",
    "            print(f'the total cost of the item is {menu[order]}')\n",
    "            total += menu[order]\n",
    "            print(f'Total is {total}')\n",
    "        if order not in menu:\n",
    "            print(\"Sorry, that's not a valid option.\")\n",
    "\n",
    "\n",
    "restaurant(MENU)"
   ],
   "id": "b466e73f0b30d734",
   "outputs": [
    {
     "name": "stdout",
     "output_type": "stream",
     "text": [
      "the total cost of the item is 12.5\n",
      "Total is 12.5\n",
      "the total cost of the item is 5.2\n",
      "Total is 17.7\n",
      "the total cost of the item is 2.5\n",
      "Total is 20.2\n",
      "the total cost of the item is 16.5\n",
      "Total is 36.7\n",
      "Sorry, that's not a valid option.\n",
      "Total is 36.7\n"
     ]
    }
   ],
   "execution_count": 1
  },
  {
   "metadata": {},
   "cell_type": "markdown",
   "source": [
    "## Exercise 15: Rainfall\n",
    "Write a function called get_rainfall() that tracks rainfall in a number of cities.  Users will enter a name of a city. If the city name is blank, then thef ucntion prints a report.  If the city name ins't blank, then the program should also ask the user how much rain has fallen in that city (typically measured in millimeteres).  After the user enters the quantity the program asks them for a city name, rainfall amount, and so on until the user presses Enter instead of typing the name of a city.\n",
    "When the user enters a blank city name, the program exits but first it reorts how much rainfall there was in each city.\n",
    "\n"
   ],
   "id": "6e99f8c4bbbc0e5"
  },
  {
   "metadata": {
    "ExecuteTime": {
     "end_time": "2025-09-26T13:00:13.923896Z",
     "start_time": "2025-09-26T12:59:57.658314Z"
    }
   },
   "cell_type": "code",
   "source": [
    "def get_rainfall():\n",
    "    rainfall = {}\n",
    "    while True:\n",
    "        city_name = input(\"What city are you reporting for: \")\n",
    "        if not city_name:\n",
    "            break\n",
    "        mm_rain = int(input(\"How much rainfall (in mm) did the city recieve: \"))\n",
    "        rainfall[city_name] = rainfall.get(city_name,0) + mm_rain\n",
    "\n",
    "    for city, rain in rainfall.items():\n",
    "        print(f'{city}: {rain}')\n",
    "\n",
    "get_rainfall()"
   ],
   "id": "2502dbf8d9b6c605",
   "outputs": [
    {
     "name": "stdout",
     "output_type": "stream",
     "text": [
      "New York: 20\n",
      "Boston: 30\n"
     ]
    }
   ],
   "execution_count": 5
  },
  {
   "metadata": {},
   "cell_type": "markdown",
   "source": [
    "## Exercise 16 Dictdiff\n",
    "\n",
    "Write a function calld dictdiff, that takes two dicts as arguments.  The function returns a new dict that expresses the difference between the two dicts.\n",
    "\n",
    "If there are no differences between the dicts, dictdiff returns an empty dict.  For each key-value pair that differes, the return value of dictdiff will have key-value pair in which the value is a list containing the values form the two different dicts.  If one of the dicts doesn't contain that key, it should contain None."
   ],
   "id": "78b1344f6f474b69"
  },
  {
   "metadata": {
    "ExecuteTime": {
     "end_time": "2025-09-26T16:24:02.891443Z",
     "start_time": "2025-09-26T16:24:02.851Z"
    }
   },
   "cell_type": "code",
   "source": [
    "def dictdiff(dict1, dict2):\n",
    "    output = {}\n",
    "    all_keys = dict1.keys()|dict2.keys()\n",
    "    for key in all_keys:\n",
    "        if dict1.get(key) != dict2.get(key):\n",
    "            output[key] = [dict1.get(key), dict2.get(key)]\n",
    "\n",
    "    return output\n",
    "dict1 = {'a':1, 'b':2, 'c':3}\n",
    "dict2 = {'a':1, 'b':2, 'c':4}\n",
    "print(dictdiff(dict1, dict2))\n",
    "print(dictdiff(dict1, dict1))\n"
   ],
   "id": "e819c372de35dd3f",
   "outputs": [
    {
     "name": "stdout",
     "output_type": "stream",
     "text": [
      "{'c': [3, 4]}\n",
      "{}\n"
     ]
    }
   ],
   "execution_count": 3
  },
  {
   "metadata": {},
   "cell_type": "markdown",
   "source": [
    "## Exercise 17: How many different numbers\n",
    "\n",
    "Create a function called how_many_different_numbers, that takes a single list of integers and returns the number of different integers it contains."
   ],
   "id": "44d8f1963a5ae73f"
  },
  {
   "metadata": {
    "ExecuteTime": {
     "end_time": "2025-09-26T16:29:53.276636Z",
     "start_time": "2025-09-26T16:29:53.246107Z"
    }
   },
   "cell_type": "code",
   "source": [
    "def how_many_different_numbers(num_list):\n",
    "    unique_numbers = set(num_list)\n",
    "    print(len(unique_numbers))\n",
    "    return unique_numbers\n",
    "\n",
    "print(how_many_different_numbers([1,2,3,4,4,4,3,2,3,4,5,6,5,4,3,2,2,4,5,6,3]))\n"
   ],
   "id": "f3745908adefea39",
   "outputs": [
    {
     "name": "stdout",
     "output_type": "stream",
     "text": [
      "6\n",
      "{1, 2, 3, 4, 5, 6}\n"
     ]
    }
   ],
   "execution_count": 4
  }
 ],
 "metadata": {
  "kernelspec": {
   "display_name": "Python 3",
   "language": "python",
   "name": "python3"
  },
  "language_info": {
   "codemirror_mode": {
    "name": "ipython",
    "version": 2
   },
   "file_extension": ".py",
   "mimetype": "text/x-python",
   "name": "python",
   "nbconvert_exporter": "python",
   "pygments_lexer": "ipython2",
   "version": "2.7.6"
  }
 },
 "nbformat": 4,
 "nbformat_minor": 5
}
